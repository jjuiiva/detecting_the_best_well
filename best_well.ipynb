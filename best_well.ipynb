{
 "cells": [
  {
   "cell_type": "markdown",
   "metadata": {},
   "source": [
    "# Выбор локации для скважины"
   ]
  },
  {
   "cell_type": "markdown",
   "metadata": {},
   "source": [
    "Вы работаете в добывающей компании «ГлавРосГосНефть». Нужно решить, где бурить новую скважину.\n",
    "\n",
    "Вам предоставлены пробы нефти в трёх регионах: в каждом 10 000 месторождений, где измерили качество нефти и объём её запасов. Постройте модель машинного обучения, которая поможет определить регион, где добыча принесёт наибольшую прибыль. Проанализируйте возможную прибыль и риски техникой *Bootstrap.*\n",
    "\n",
    "Шаги для выбора локации:\n",
    "\n",
    "- В избранном регионе ищут месторождения, для каждого определяют значения признаков;\n",
    "- Строят модель и оценивают объём запасов;\n",
    "- Выбирают месторождения с самым высокими оценками значений. Количество месторождений зависит от бюджета компании и стоимости разработки одной скважины;\n",
    "- Прибыль равна суммарной прибыли отобранных месторождений."
   ]
  },
  {
   "cell_type": "markdown",
   "metadata": {},
   "source": [
    "# Условия задачи:\n",
    "- Для обучения модели подходит только линейная регрессия (остальные — недостаточно предсказуемые).  \n",
    "- При разведке региона исследуют 500 точек, из которых с помощью машинного обучения выбирают 200 лучших для разработки.  \n",
    "- Бюджет на разработку скважин в регионе — 10 млрд рублей.  \n",
    "- При нынешних ценах один баррель сырья приносит 450 рублей дохода. Доход с каждой единицы продукта составляет 450 тыс. рублей, поскольку объём указан в тысячах баррелей.  \n",
    "- После оценки рисков нужно оставить лишь те регионы, в которых вероятность убытков меньше 2.5%. Среди них выбирают регион с наибольшей средней прибылью."
   ]
  },
  {
   "cell_type": "markdown",
   "metadata": {},
   "source": [
    "## Загрузка и подготовка данных"
   ]
  },
  {
   "cell_type": "markdown",
   "metadata": {},
   "source": [
    "Импортируем все необходимые для дальнейшей работы библиотеки."
   ]
  },
  {
   "cell_type": "code",
   "execution_count": 1,
   "metadata": {},
   "outputs": [],
   "source": [
    "import pandas as pd\n",
    "\n",
    "import numpy as np\n",
    "\n",
    "from sklearn.preprocessing import StandardScaler\n",
    "from sklearn.linear_model import LinearRegression\n",
    "from sklearn.model_selection import (train_test_split, \n",
    "                                     cross_val_score)\n",
    "from sklearn.metrics import (mean_squared_error, \n",
    "                             r2_score)"
   ]
  },
  {
   "cell_type": "markdown",
   "metadata": {},
   "source": [
    "Выгрузим данные о трех регионах, соответственно, в переменные data1, data2, data3"
   ]
  },
  {
   "cell_type": "code",
   "execution_count": 2,
   "metadata": {},
   "outputs": [],
   "source": [
    "names = ['ПЕРВЫЙ', 'ВТОРОЙ', 'ТРЕТИЙ']"
   ]
  },
  {
   "cell_type": "code",
   "execution_count": 4,
   "metadata": {
    "scrolled": true
   },
   "outputs": [],
   "source": [
    "data1 = pd.read_csv('datasets/geo_data_0.csv')\n",
    "data2 = pd.read_csv('datasets/geo_data_1.csv')\n",
    "data3 = pd.read_csv('datasets/geo_data_2.csv')\n",
    "\n",
    "files = [data1, data2, data3]"
   ]
  },
  {
   "cell_type": "code",
   "execution_count": 5,
   "metadata": {
    "scrolled": false
   },
   "outputs": [
    {
     "name": "stdout",
     "output_type": "stream",
     "text": [
      "ПЕРВЫЙ регион: информация\n"
     ]
    },
    {
     "data": {
      "text/html": [
       "<div>\n",
       "<style scoped>\n",
       "    .dataframe tbody tr th:only-of-type {\n",
       "        vertical-align: middle;\n",
       "    }\n",
       "\n",
       "    .dataframe tbody tr th {\n",
       "        vertical-align: top;\n",
       "    }\n",
       "\n",
       "    .dataframe thead th {\n",
       "        text-align: right;\n",
       "    }\n",
       "</style>\n",
       "<table border=\"1\" class=\"dataframe\">\n",
       "  <thead>\n",
       "    <tr style=\"text-align: right;\">\n",
       "      <th></th>\n",
       "      <th>id</th>\n",
       "      <th>f0</th>\n",
       "      <th>f1</th>\n",
       "      <th>f2</th>\n",
       "      <th>product</th>\n",
       "    </tr>\n",
       "  </thead>\n",
       "  <tbody>\n",
       "    <tr>\n",
       "      <th>0</th>\n",
       "      <td>txEyH</td>\n",
       "      <td>0.705745</td>\n",
       "      <td>-0.497823</td>\n",
       "      <td>1.221170</td>\n",
       "      <td>105.280062</td>\n",
       "    </tr>\n",
       "    <tr>\n",
       "      <th>1</th>\n",
       "      <td>2acmU</td>\n",
       "      <td>1.334711</td>\n",
       "      <td>-0.340164</td>\n",
       "      <td>4.365080</td>\n",
       "      <td>73.037750</td>\n",
       "    </tr>\n",
       "    <tr>\n",
       "      <th>2</th>\n",
       "      <td>409Wp</td>\n",
       "      <td>1.022732</td>\n",
       "      <td>0.151990</td>\n",
       "      <td>1.419926</td>\n",
       "      <td>85.265647</td>\n",
       "    </tr>\n",
       "    <tr>\n",
       "      <th>3</th>\n",
       "      <td>iJLyR</td>\n",
       "      <td>-0.032172</td>\n",
       "      <td>0.139033</td>\n",
       "      <td>2.978566</td>\n",
       "      <td>168.620776</td>\n",
       "    </tr>\n",
       "    <tr>\n",
       "      <th>4</th>\n",
       "      <td>Xdl7t</td>\n",
       "      <td>1.988431</td>\n",
       "      <td>0.155413</td>\n",
       "      <td>4.751769</td>\n",
       "      <td>154.036647</td>\n",
       "    </tr>\n",
       "  </tbody>\n",
       "</table>\n",
       "</div>"
      ],
      "text/plain": [
       "      id        f0        f1        f2     product\n",
       "0  txEyH  0.705745 -0.497823  1.221170  105.280062\n",
       "1  2acmU  1.334711 -0.340164  4.365080   73.037750\n",
       "2  409Wp  1.022732  0.151990  1.419926   85.265647\n",
       "3  iJLyR -0.032172  0.139033  2.978566  168.620776\n",
       "4  Xdl7t  1.988431  0.155413  4.751769  154.036647"
      ]
     },
     "metadata": {},
     "output_type": "display_data"
    },
    {
     "name": "stdout",
     "output_type": "stream",
     "text": [
      "<class 'pandas.core.frame.DataFrame'>\n",
      "RangeIndex: 100000 entries, 0 to 99999\n",
      "Data columns (total 5 columns):\n",
      " #   Column   Non-Null Count   Dtype  \n",
      "---  ------   --------------   -----  \n",
      " 0   id       100000 non-null  object \n",
      " 1   f0       100000 non-null  float64\n",
      " 2   f1       100000 non-null  float64\n",
      " 3   f2       100000 non-null  float64\n",
      " 4   product  100000 non-null  float64\n",
      "dtypes: float64(4), object(1)\n",
      "memory usage: 3.8+ MB\n",
      "None\n",
      "                  f0             f1             f2        product\n",
      "count  100000.000000  100000.000000  100000.000000  100000.000000\n",
      "mean        0.500419       0.250143       2.502647      92.500000\n",
      "std         0.871832       0.504433       3.248248      44.288691\n",
      "min        -1.408605      -0.848218     -12.088328       0.000000\n",
      "25%        -0.072580      -0.200881       0.287748      56.497507\n",
      "50%         0.502360       0.250252       2.515969      91.849972\n",
      "75%         1.073581       0.700646       4.715088     128.564089\n",
      "max         2.362331       1.343769      16.003790     185.364347\n",
      "\n",
      "\n",
      "\n",
      "\n",
      "ВТОРОЙ регион: информация\n"
     ]
    },
    {
     "data": {
      "text/html": [
       "<div>\n",
       "<style scoped>\n",
       "    .dataframe tbody tr th:only-of-type {\n",
       "        vertical-align: middle;\n",
       "    }\n",
       "\n",
       "    .dataframe tbody tr th {\n",
       "        vertical-align: top;\n",
       "    }\n",
       "\n",
       "    .dataframe thead th {\n",
       "        text-align: right;\n",
       "    }\n",
       "</style>\n",
       "<table border=\"1\" class=\"dataframe\">\n",
       "  <thead>\n",
       "    <tr style=\"text-align: right;\">\n",
       "      <th></th>\n",
       "      <th>id</th>\n",
       "      <th>f0</th>\n",
       "      <th>f1</th>\n",
       "      <th>f2</th>\n",
       "      <th>product</th>\n",
       "    </tr>\n",
       "  </thead>\n",
       "  <tbody>\n",
       "    <tr>\n",
       "      <th>0</th>\n",
       "      <td>kBEdx</td>\n",
       "      <td>-15.001348</td>\n",
       "      <td>-8.276000</td>\n",
       "      <td>-0.005876</td>\n",
       "      <td>3.179103</td>\n",
       "    </tr>\n",
       "    <tr>\n",
       "      <th>1</th>\n",
       "      <td>62mP7</td>\n",
       "      <td>14.272088</td>\n",
       "      <td>-3.475083</td>\n",
       "      <td>0.999183</td>\n",
       "      <td>26.953261</td>\n",
       "    </tr>\n",
       "    <tr>\n",
       "      <th>2</th>\n",
       "      <td>vyE1P</td>\n",
       "      <td>6.263187</td>\n",
       "      <td>-5.948386</td>\n",
       "      <td>5.001160</td>\n",
       "      <td>134.766305</td>\n",
       "    </tr>\n",
       "    <tr>\n",
       "      <th>3</th>\n",
       "      <td>KcrkZ</td>\n",
       "      <td>-13.081196</td>\n",
       "      <td>-11.506057</td>\n",
       "      <td>4.999415</td>\n",
       "      <td>137.945408</td>\n",
       "    </tr>\n",
       "    <tr>\n",
       "      <th>4</th>\n",
       "      <td>AHL4O</td>\n",
       "      <td>12.702195</td>\n",
       "      <td>-8.147433</td>\n",
       "      <td>5.004363</td>\n",
       "      <td>134.766305</td>\n",
       "    </tr>\n",
       "  </tbody>\n",
       "</table>\n",
       "</div>"
      ],
      "text/plain": [
       "      id         f0         f1        f2     product\n",
       "0  kBEdx -15.001348  -8.276000 -0.005876    3.179103\n",
       "1  62mP7  14.272088  -3.475083  0.999183   26.953261\n",
       "2  vyE1P   6.263187  -5.948386  5.001160  134.766305\n",
       "3  KcrkZ -13.081196 -11.506057  4.999415  137.945408\n",
       "4  AHL4O  12.702195  -8.147433  5.004363  134.766305"
      ]
     },
     "metadata": {},
     "output_type": "display_data"
    },
    {
     "name": "stdout",
     "output_type": "stream",
     "text": [
      "<class 'pandas.core.frame.DataFrame'>\n",
      "RangeIndex: 100000 entries, 0 to 99999\n",
      "Data columns (total 5 columns):\n",
      " #   Column   Non-Null Count   Dtype  \n",
      "---  ------   --------------   -----  \n",
      " 0   id       100000 non-null  object \n",
      " 1   f0       100000 non-null  float64\n",
      " 2   f1       100000 non-null  float64\n",
      " 3   f2       100000 non-null  float64\n",
      " 4   product  100000 non-null  float64\n",
      "dtypes: float64(4), object(1)\n",
      "memory usage: 3.8+ MB\n",
      "None\n",
      "                  f0             f1             f2        product\n",
      "count  100000.000000  100000.000000  100000.000000  100000.000000\n",
      "mean        1.141296      -4.796579       2.494541      68.825000\n",
      "std         8.965932       5.119872       1.703572      45.944423\n",
      "min       -31.609576     -26.358598      -0.018144       0.000000\n",
      "25%        -6.298551      -8.267985       1.000021      26.953261\n",
      "50%         1.153055      -4.813172       2.011479      57.085625\n",
      "75%         8.621015      -1.332816       3.999904     107.813044\n",
      "max        29.421755      18.734063       5.019721     137.945408\n",
      "\n",
      "\n",
      "\n",
      "\n",
      "ТРЕТИЙ регион: информация\n"
     ]
    },
    {
     "data": {
      "text/html": [
       "<div>\n",
       "<style scoped>\n",
       "    .dataframe tbody tr th:only-of-type {\n",
       "        vertical-align: middle;\n",
       "    }\n",
       "\n",
       "    .dataframe tbody tr th {\n",
       "        vertical-align: top;\n",
       "    }\n",
       "\n",
       "    .dataframe thead th {\n",
       "        text-align: right;\n",
       "    }\n",
       "</style>\n",
       "<table border=\"1\" class=\"dataframe\">\n",
       "  <thead>\n",
       "    <tr style=\"text-align: right;\">\n",
       "      <th></th>\n",
       "      <th>id</th>\n",
       "      <th>f0</th>\n",
       "      <th>f1</th>\n",
       "      <th>f2</th>\n",
       "      <th>product</th>\n",
       "    </tr>\n",
       "  </thead>\n",
       "  <tbody>\n",
       "    <tr>\n",
       "      <th>0</th>\n",
       "      <td>fwXo0</td>\n",
       "      <td>-1.146987</td>\n",
       "      <td>0.963328</td>\n",
       "      <td>-0.828965</td>\n",
       "      <td>27.758673</td>\n",
       "    </tr>\n",
       "    <tr>\n",
       "      <th>1</th>\n",
       "      <td>WJtFt</td>\n",
       "      <td>0.262778</td>\n",
       "      <td>0.269839</td>\n",
       "      <td>-2.530187</td>\n",
       "      <td>56.069697</td>\n",
       "    </tr>\n",
       "    <tr>\n",
       "      <th>2</th>\n",
       "      <td>ovLUW</td>\n",
       "      <td>0.194587</td>\n",
       "      <td>0.289035</td>\n",
       "      <td>-5.586433</td>\n",
       "      <td>62.871910</td>\n",
       "    </tr>\n",
       "    <tr>\n",
       "      <th>3</th>\n",
       "      <td>q6cA6</td>\n",
       "      <td>2.236060</td>\n",
       "      <td>-0.553760</td>\n",
       "      <td>0.930038</td>\n",
       "      <td>114.572842</td>\n",
       "    </tr>\n",
       "    <tr>\n",
       "      <th>4</th>\n",
       "      <td>WPMUX</td>\n",
       "      <td>-0.515993</td>\n",
       "      <td>1.716266</td>\n",
       "      <td>5.899011</td>\n",
       "      <td>149.600746</td>\n",
       "    </tr>\n",
       "  </tbody>\n",
       "</table>\n",
       "</div>"
      ],
      "text/plain": [
       "      id        f0        f1        f2     product\n",
       "0  fwXo0 -1.146987  0.963328 -0.828965   27.758673\n",
       "1  WJtFt  0.262778  0.269839 -2.530187   56.069697\n",
       "2  ovLUW  0.194587  0.289035 -5.586433   62.871910\n",
       "3  q6cA6  2.236060 -0.553760  0.930038  114.572842\n",
       "4  WPMUX -0.515993  1.716266  5.899011  149.600746"
      ]
     },
     "metadata": {},
     "output_type": "display_data"
    },
    {
     "name": "stdout",
     "output_type": "stream",
     "text": [
      "<class 'pandas.core.frame.DataFrame'>\n",
      "RangeIndex: 100000 entries, 0 to 99999\n",
      "Data columns (total 5 columns):\n",
      " #   Column   Non-Null Count   Dtype  \n",
      "---  ------   --------------   -----  \n",
      " 0   id       100000 non-null  object \n",
      " 1   f0       100000 non-null  float64\n",
      " 2   f1       100000 non-null  float64\n",
      " 3   f2       100000 non-null  float64\n",
      " 4   product  100000 non-null  float64\n",
      "dtypes: float64(4), object(1)\n",
      "memory usage: 3.8+ MB\n",
      "None\n",
      "                  f0             f1             f2        product\n",
      "count  100000.000000  100000.000000  100000.000000  100000.000000\n",
      "mean        0.002023      -0.002081       2.495128      95.000000\n",
      "std         1.732045       1.730417       3.473445      44.749921\n",
      "min        -8.760004      -7.084020     -11.970335       0.000000\n",
      "25%        -1.162288      -1.174820       0.130359      59.450441\n",
      "50%         0.009424      -0.009482       2.484236      94.925613\n",
      "75%         1.158535       1.163678       4.858794     130.595027\n",
      "max         7.238262       7.844801      16.739402     190.029838\n",
      "\n",
      "\n",
      "\n",
      "\n"
     ]
    }
   ],
   "source": [
    "for x, y in zip(names, files):\n",
    "    print(f'{x} регион: информация')\n",
    "    display(y.head())\n",
    "    print(y.info())\n",
    "    print(y.describe(), end='\\n\\n\\n\\n\\n')"
   ]
  },
  {
   "cell_type": "markdown",
   "metadata": {},
   "source": [
    "- Пропусков нет, и кол-во признаков во всех трех колонках одинаковое. Значит, предобработка не требуется;  \n",
    "- Второй регион имеет самые низкие показатели среднего и максимального значения в колонке с продуктом. Это может означать, что этот регион самый неприбыльный. Проверим это далее;"
   ]
  },
  {
   "cell_type": "markdown",
   "metadata": {},
   "source": [
    "Теперь начинаем подготовку признаков.  \n",
    "\n",
    "Для начала разделим датасеты на признаки и целевой признак, не включая колонку 'id' - она нам в обучении модели не поможет."
   ]
  },
  {
   "cell_type": "code",
   "execution_count": 6,
   "metadata": {},
   "outputs": [],
   "source": [
    "features1 = data1.drop(['id', 'product'], axis=1)\n",
    "target1 = data1['product']\n",
    "\n",
    "features2 = data2.drop(['id', 'product'], axis=1)\n",
    "target2 = data2['product']\n",
    "\n",
    "features3 = data3.drop(['id', 'product'], axis=1)\n",
    "target3 = data3['product']"
   ]
  },
  {
   "cell_type": "markdown",
   "metadata": {},
   "source": [
    "Теперь делим из на обучающую и валидационную выборки."
   ]
  },
  {
   "cell_type": "code",
   "execution_count": 7,
   "metadata": {},
   "outputs": [
    {
     "name": "stdout",
     "output_type": "stream",
     "text": [
      "(75000, 3) (25000, 3)\n",
      "(75000, 3) (25000, 3)\n",
      "(75000, 3) (25000, 3)\n"
     ]
    }
   ],
   "source": [
    "features_train1, features_valid1, target_train1, target_valid1 = (\n",
    "    train_test_split(features1, target1, test_size=0.25)\n",
    ")\n",
    "features_train2, features_valid2, target_train2, target_valid2 = (\n",
    "    train_test_split(features2, target2, test_size=0.25)\n",
    ")\n",
    "features_train3, features_valid3, target_train3, target_valid3 = (\n",
    "    train_test_split(features3, target3, test_size=0.25)\n",
    ")\n",
    "\n",
    "print(features_train1.shape, features_valid1.shape)\n",
    "print(features_train2.shape, features_valid2.shape)\n",
    "print(features_train3.shape, features_valid3.shape)"
   ]
  },
  {
   "cell_type": "markdown",
   "metadata": {},
   "source": [
    "Теперь начинаем подготовку признаков.  \n",
    "\n",
    "У нас будет регрессионная модель. Значит, преобразование категориальных моделей в численные нам не понадобится. Используем только масштабирование признаков.     \n",
    "\n",
    "Стандартизировать данные мы будем функцией Standard Scaler. Для каждого региона (для каждой отдельной модели) будем масштабировать данные отдельно."
   ]
  },
  {
   "cell_type": "code",
   "execution_count": 8,
   "metadata": {},
   "outputs": [
    {
     "data": {
      "text/html": [
       "<div>\n",
       "<style scoped>\n",
       "    .dataframe tbody tr th:only-of-type {\n",
       "        vertical-align: middle;\n",
       "    }\n",
       "\n",
       "    .dataframe tbody tr th {\n",
       "        vertical-align: top;\n",
       "    }\n",
       "\n",
       "    .dataframe thead th {\n",
       "        text-align: right;\n",
       "    }\n",
       "</style>\n",
       "<table border=\"1\" class=\"dataframe\">\n",
       "  <thead>\n",
       "    <tr style=\"text-align: right;\">\n",
       "      <th></th>\n",
       "      <th>f0</th>\n",
       "      <th>f1</th>\n",
       "      <th>f2</th>\n",
       "    </tr>\n",
       "  </thead>\n",
       "  <tbody>\n",
       "    <tr>\n",
       "      <th>10280</th>\n",
       "      <td>1.430998</td>\n",
       "      <td>-0.253906</td>\n",
       "      <td>0.313021</td>\n",
       "    </tr>\n",
       "    <tr>\n",
       "      <th>4687</th>\n",
       "      <td>1.821586</td>\n",
       "      <td>-0.112133</td>\n",
       "      <td>1.565152</td>\n",
       "    </tr>\n",
       "    <tr>\n",
       "      <th>68200</th>\n",
       "      <td>1.994459</td>\n",
       "      <td>0.530592</td>\n",
       "      <td>8.112532</td>\n",
       "    </tr>\n",
       "    <tr>\n",
       "      <th>87758</th>\n",
       "      <td>0.011347</td>\n",
       "      <td>0.039317</td>\n",
       "      <td>-0.705557</td>\n",
       "    </tr>\n",
       "    <tr>\n",
       "      <th>22241</th>\n",
       "      <td>0.004286</td>\n",
       "      <td>0.094829</td>\n",
       "      <td>-0.380777</td>\n",
       "    </tr>\n",
       "  </tbody>\n",
       "</table>\n",
       "</div>"
      ],
      "text/plain": [
       "             f0        f1        f2\n",
       "10280  1.430998 -0.253906  0.313021\n",
       "4687   1.821586 -0.112133  1.565152\n",
       "68200  1.994459  0.530592  8.112532\n",
       "87758  0.011347  0.039317 -0.705557\n",
       "22241  0.004286  0.094829 -0.380777"
      ]
     },
     "metadata": {},
     "output_type": "display_data"
    },
    {
     "data": {
      "text/html": [
       "<div>\n",
       "<style scoped>\n",
       "    .dataframe tbody tr th:only-of-type {\n",
       "        vertical-align: middle;\n",
       "    }\n",
       "\n",
       "    .dataframe tbody tr th {\n",
       "        vertical-align: top;\n",
       "    }\n",
       "\n",
       "    .dataframe thead th {\n",
       "        text-align: right;\n",
       "    }\n",
       "</style>\n",
       "<table border=\"1\" class=\"dataframe\">\n",
       "  <thead>\n",
       "    <tr style=\"text-align: right;\">\n",
       "      <th></th>\n",
       "      <th>f0</th>\n",
       "      <th>f1</th>\n",
       "      <th>f2</th>\n",
       "    </tr>\n",
       "  </thead>\n",
       "  <tbody>\n",
       "    <tr>\n",
       "      <th>17905</th>\n",
       "      <td>-0.252573</td>\n",
       "      <td>0.470926</td>\n",
       "      <td>5.216238</td>\n",
       "    </tr>\n",
       "    <tr>\n",
       "      <th>85165</th>\n",
       "      <td>-1.010592</td>\n",
       "      <td>0.276342</td>\n",
       "      <td>7.628469</td>\n",
       "    </tr>\n",
       "    <tr>\n",
       "      <th>83607</th>\n",
       "      <td>0.494880</td>\n",
       "      <td>-0.266659</td>\n",
       "      <td>1.075921</td>\n",
       "    </tr>\n",
       "    <tr>\n",
       "      <th>7161</th>\n",
       "      <td>0.086181</td>\n",
       "      <td>1.003273</td>\n",
       "      <td>-0.325700</td>\n",
       "    </tr>\n",
       "    <tr>\n",
       "      <th>2983</th>\n",
       "      <td>-0.458325</td>\n",
       "      <td>0.983127</td>\n",
       "      <td>0.319428</td>\n",
       "    </tr>\n",
       "  </tbody>\n",
       "</table>\n",
       "</div>"
      ],
      "text/plain": [
       "             f0        f1        f2\n",
       "17905 -0.252573  0.470926  5.216238\n",
       "85165 -1.010592  0.276342  7.628469\n",
       "83607  0.494880 -0.266659  1.075921\n",
       "7161   0.086181  1.003273 -0.325700\n",
       "2983  -0.458325  0.983127  0.319428"
      ]
     },
     "metadata": {},
     "output_type": "display_data"
    }
   ],
   "source": [
    "# сохраняем название колонок в отдельную переменную\n",
    "columns = features1.columns\n",
    "\n",
    "# создаем модель, которая будет масштабировать\n",
    "scaler = StandardScaler()\n",
    "\n",
    "# масштабируем первый регион\n",
    "scaler.fit(features_train1)\n",
    "scaler.transform(features_train1)\n",
    "scaler.transform(features_valid1)\n",
    "\n",
    "# масштабируем второй регион\n",
    "scaler.fit(features_train2)\n",
    "scaler.transform(features_train2)\n",
    "scaler.transform(features_valid2)\n",
    "\n",
    "# масштабируем третий регион\n",
    "scaler.fit(features_train3)\n",
    "scaler.transform(features_train3)\n",
    "scaler.transform(features_valid3)\n",
    "\n",
    "# проверяем\n",
    "display(features_train1.head())\n",
    "display(features_valid1.head())"
   ]
  },
  {
   "cell_type": "markdown",
   "metadata": {},
   "source": [
    "**С подготовкой признаков мы закончили:**"
   ]
  },
  {
   "cell_type": "markdown",
   "metadata": {},
   "source": [
    "- Проверили данные на наличие пропусков. Пропуски не обнаружены;  \n",
    "- Масштабировали данные для дальнейшего продуктивного обучения моделей;  \n",
    "- Разделили данные на тренировочную и валидационную выборки;  "
   ]
  },
  {
   "cell_type": "markdown",
   "metadata": {},
   "source": [
    "## Обучение и проверка модели"
   ]
  },
  {
   "cell_type": "markdown",
   "metadata": {},
   "source": [
    "### Обучим модель и сделаем предсказания на валидационной выборке."
   ]
  },
  {
   "cell_type": "markdown",
   "metadata": {},
   "source": [
    "Так как в задаче есть условие использовать линейную регрессию, то модели будем обучать только на ней и не будем подбирать гиперпараметры для остальных регрессивных моделей.  \n",
    "\n",
    "Обучим три модели на каждой их выборок."
   ]
  },
  {
   "cell_type": "code",
   "execution_count": 9,
   "metadata": {},
   "outputs": [],
   "source": [
    "# первая модель\n",
    "model1 = LinearRegression()\n",
    "model1.fit(features_train1, target_train1)\n",
    "predicted_valid1 = model1.predict(features_valid1)\n",
    "\n",
    "# вторая модель\n",
    "model2 = LinearRegression()\n",
    "model2.fit(features_train2, target_train2)\n",
    "predicted_valid2 = model2.predict(features_valid2)\n",
    "\n",
    "# третья модель\n",
    "model3 = LinearRegression()\n",
    "model3.fit(features_train3, target_train3)\n",
    "predicted_valid3 = model3.predict(features_valid3)"
   ]
  },
  {
   "cell_type": "markdown",
   "metadata": {},
   "source": [
    "Все предсказания и правильные ответы у нас сохранены в переменных predicted_valid и target_valid с соответствующим номером."
   ]
  },
  {
   "cell_type": "markdown",
   "metadata": {},
   "source": [
    "### Напечатаем на экране средний запас предсказанного сырья и RMSE модели."
   ]
  },
  {
   "cell_type": "markdown",
   "metadata": {},
   "source": [
    "Для первой модели:"
   ]
  },
  {
   "cell_type": "code",
   "execution_count": 10,
   "metadata": {},
   "outputs": [
    {
     "name": "stdout",
     "output_type": "stream",
     "text": [
      "Среднее предсказанное значение: 92.48, rmse: 37.63\n",
      "Настоящее среднее: 92.54\n"
     ]
    }
   ],
   "source": [
    "model1_mean = predicted_valid1.mean()\n",
    "model1_rmse = mean_squared_error(target_valid1, predicted_valid1, squared=False)\n",
    "\n",
    "print('Среднее предсказанное значение: {:.2f}, rmse: {:.2f}'.format(model1_mean, model1_rmse))\n",
    "print('Настоящее среднее: {:.2f}'.format(target_valid1.mean()))"
   ]
  },
  {
   "cell_type": "markdown",
   "metadata": {},
   "source": [
    "Для второй модели:"
   ]
  },
  {
   "cell_type": "code",
   "execution_count": 11,
   "metadata": {},
   "outputs": [
    {
     "name": "stdout",
     "output_type": "stream",
     "text": [
      "Среднее предсказанное значение: 68.82, rmse: 0.89\n",
      "Настоящее среднее: 68.81\n"
     ]
    }
   ],
   "source": [
    "model2_mean = predicted_valid2.mean()\n",
    "model2_rmse = mean_squared_error(target_valid2, predicted_valid2, squared=False)\n",
    "\n",
    "print('Среднее предсказанное значение: {:.2f}, rmse: {:.2f}'.format(model2_mean, model2_rmse))\n",
    "print('Настоящее среднее: {:.2f}'.format(target_valid2.mean()))"
   ]
  },
  {
   "cell_type": "markdown",
   "metadata": {},
   "source": [
    "Для третьей модели:"
   ]
  },
  {
   "cell_type": "code",
   "execution_count": 12,
   "metadata": {},
   "outputs": [
    {
     "name": "stdout",
     "output_type": "stream",
     "text": [
      "Среднее предсказанное значение: 94.59, rmse: 40.05\n",
      "Настоящее среднее: 95.27\n"
     ]
    }
   ],
   "source": [
    "model3_mean = predicted_valid3.mean()\n",
    "model3_rmse = mean_squared_error(target_valid3, predicted_valid3, squared=False)\n",
    "\n",
    "print('Среднее предсказанное значение: {:.2f}, rmse: {:.2f}'.format(model3_mean, model3_rmse))\n",
    "print('Настоящее среднее: {:.2f}'.format(target_valid3.mean()))"
   ]
  },
  {
   "cell_type": "markdown",
   "metadata": {},
   "source": [
    "Лучшие предсказания, судя по маленькому отклонению, у второй модели. Давайте проверим еще раз наши модели теперь с помощью r2-метрики. У идеальной модели она должна стремиться к единице."
   ]
  },
  {
   "cell_type": "code",
   "execution_count": 13,
   "metadata": {},
   "outputs": [
    {
     "name": "stdout",
     "output_type": "stream",
     "text": [
      "0.27878799187698977\n",
      "0.9996245814479021\n",
      "0.2007623355488889\n"
     ]
    }
   ],
   "source": [
    "print(r2_score(target_valid1, predicted_valid1))\n",
    "print(r2_score(target_valid2, predicted_valid2))\n",
    "print(r2_score(target_valid3, predicted_valid3))"
   ]
  },
  {
   "cell_type": "markdown",
   "metadata": {},
   "source": [
    "### Проанализируем результаты"
   ]
  },
  {
   "cell_type": "markdown",
   "metadata": {},
   "source": [
    "1) Вторая модель предсказывает точнее всех. Это выявил и низкий показатель rmse, и r2 крайне близкий к единице. Подозрительно идеально;  \n",
    "2) У всех моделей и предсказнное, и истинное среднее практически не отличаются. Значит, для дальнейших рассчетов все модели нам все равно подойдут, так как мы будем считать общую прибыль по району добычи;  "
   ]
  },
  {
   "cell_type": "markdown",
   "metadata": {},
   "source": [
    "## Подготовка к расчёту прибыли"
   ]
  },
  {
   "cell_type": "markdown",
   "metadata": {},
   "source": [
    "### Введем ключевые значения для будущих рассчетов."
   ]
  },
  {
   "cell_type": "code",
   "execution_count": 14,
   "metadata": {},
   "outputs": [],
   "source": [
    "# кол-во скважин для исследования\n",
    "RESEARCHING_WELLS = 500\n",
    "\n",
    "# кол-во скважин для будущей добычи\n",
    "EXTRACTING_WELLS = 200\n",
    "\n",
    "# бюджет на один регион в млн рублей (10 млрд руб)\n",
    "BUDGET_PER_REGION = 10000\n",
    "\n",
    "# цена за 1 тыс баррелей нефти в млн рублей\n",
    "PRICE_FOR_THOUSAND = 0.45\n",
    "\n",
    "# вероятность убытков (2.5 %)\n",
    "PROBABILITIES_OF_LOSSES = 0.025"
   ]
  },
  {
   "cell_type": "markdown",
   "metadata": {},
   "source": [
    "### Рассчитаем достаточный объём сырья для безубыточной разработки новой скважины."
   ]
  },
  {
   "cell_type": "markdown",
   "metadata": {},
   "source": [
    "По условию задачи бюджет может быть использован только на 200 скважин. Значит, для определения достаточного объема нам нужно разделить бюджет на кол-во возможных скважин."
   ]
  },
  {
   "cell_type": "code",
   "execution_count": 15,
   "metadata": {},
   "outputs": [
    {
     "data": {
      "text/plain": [
       "50.0"
      ]
     },
     "execution_count": 15,
     "metadata": {},
     "output_type": "execute_result"
    }
   ],
   "source": [
    "budget_per_well = BUDGET_PER_REGION / EXTRACTING_WELLS\n",
    "budget_per_well"
   ]
  },
  {
   "cell_type": "markdown",
   "metadata": {},
   "source": [
    "Бюджет на одну скважину: 50 млн рублей. При такой сумме добыча в определенной скважине выйдет в ноль.  \n",
    "Теперь посчитаем, какое это кол-во тыс. баррелей (потому что именно в тысячах у нас указана информация в датасете)."
   ]
  },
  {
   "cell_type": "code",
   "execution_count": 16,
   "metadata": {},
   "outputs": [
    {
     "data": {
      "text/plain": [
       "111.11111111111111"
      ]
     },
     "execution_count": 16,
     "metadata": {},
     "output_type": "execute_result"
    }
   ],
   "source": [
    "product_count = budget_per_well / PRICE_FOR_THOUSAND\n",
    "product_count"
   ]
  },
  {
   "cell_type": "markdown",
   "metadata": {},
   "source": [
    "### Выводы:"
   ]
  },
  {
   "cell_type": "markdown",
   "metadata": {},
   "source": [
    "Необходимое кол-во продукта превышает среднее кол-во тыс баррелей по каждому отдельному региону. Значит, мы не можем бездумно выбрать случайные скважины во всех трех регионах, потому что нас может ждать неудача. Нужно выбрать регион с наименьшей вероятностью получить убытки."
   ]
  },
  {
   "cell_type": "markdown",
   "metadata": {},
   "source": [
    "## Расчёт прибыли и рисков "
   ]
  },
  {
   "cell_type": "markdown",
   "metadata": {},
   "source": [
    "Для рассчета потенциальной прибыли из одного региона нам нужно написать функцию, которая: \n",
    "\n",
    "1) На вход будет получать настоящие показатели, предсказания и максимально возможное кол-во скважин.  \n",
    "2) Отсортирует предсказания и составит топ по прибыльности.  \n",
    "3) На выходе будет выдавать сумму истинных значений, соответствующим топу по предсказаниям (в млн рублей)"
   ]
  },
  {
   "cell_type": "code",
   "execution_count": 17,
   "metadata": {},
   "outputs": [],
   "source": [
    "def revenue(target, predicted, count):\n",
    "    \n",
    "    predicted = pd.Series(predicted)\n",
    "    target = pd.Series(target).reset_index(drop=True)\n",
    "    \n",
    "    predicted = predicted.sort_values(ascending=False)\n",
    "    indexes = predicted[:count].index\n",
    "    total = target[indexes].sum()\n",
    "    total = total * PRICE_FOR_THOUSAND\n",
    "    \n",
    "    return total"
   ]
  },
  {
   "cell_type": "markdown",
   "metadata": {},
   "source": [
    "Функцию создали. Теперь посчитаем прибыль во всем трем районам и проверим работоспособность нашей функции"
   ]
  },
  {
   "cell_type": "code",
   "execution_count": 18,
   "metadata": {},
   "outputs": [
    {
     "name": "stdout",
     "output_type": "stream",
     "text": [
      "Прибыль для первого райнона: 13249.9454247781 млн рублей\n",
      "Прибыль для второго райнона: 12415.086696681512 млн рублей\n",
      "Прибыль для третьего райнона: 12388.966948279061 млн рублей\n"
     ]
    }
   ],
   "source": [
    "print(f'Прибыль для первого райнона: {revenue(target_valid1, predicted_valid1, EXTRACTING_WELLS)} млн рублей')\n",
    "print(f'Прибыль для второго райнона: {revenue(target_valid2, predicted_valid2, EXTRACTING_WELLS)} млн рублей')\n",
    "print(f'Прибыль для третьего райнона: {revenue(target_valid3, predicted_valid3, EXTRACTING_WELLS)} млн рублей')"
   ]
  },
  {
   "cell_type": "markdown",
   "metadata": {},
   "source": [
    "Прибыль в самом лучшем случае могла бы составить более 10 млрд рублей в каждом регионе. Это при условии, что мы идеально случайным образом выберем из всех скважин - 200 самых прибыльныльных.  \n",
    "\n",
    "Получается, каждый регион потенциально может окупить бюджет на разработку. Оценим риски по всем трем регионам."
   ]
  },
  {
   "cell_type": "markdown",
   "metadata": {},
   "source": [
    "Чтобы посчитать, окупится ли район с нужной нам вероятностью (2,5%), нужно:  \n",
    "\n",
    "1) Взять 500 случайных значений скважин из региона  \n",
    "2) Из этих 500 взять 200 с самой большой предсказанной выручкой  \n",
    "3) Сложить выручку с этих самых прибыльных скважин    \n",
    "5) Повторить таким образом 1000 раз   \n",
    "6) Вычесть из выручки каждой выборки бюджет на разработку. Это будет чистая прибыль   \n",
    "4) Оценить, убыточна она или нет  \n",
    "7) Посчитать долю убыточных выборок от всего кол-ва и проверить, не больше ли это значение статистической значимости  \n",
    "8) Если больше, то регион не окупится со слишком большой вероятностью, если меньше, то с достаточно низкой  "
   ]
  },
  {
   "cell_type": "markdown",
   "metadata": {},
   "source": [
    "Сразу создадим фиксированный сид вероятности"
   ]
  },
  {
   "cell_type": "code",
   "execution_count": 19,
   "metadata": {},
   "outputs": [],
   "source": [
    "state = np.random.RandomState(12345)"
   ]
  },
  {
   "cell_type": "markdown",
   "metadata": {},
   "source": [
    "### Проверяем первый регион:"
   ]
  },
  {
   "cell_type": "code",
   "execution_count": 20,
   "metadata": {
    "scrolled": true
   },
   "outputs": [
    {
     "name": "stdout",
     "output_type": "stream",
     "text": [
      "Начало доверительного интервала: -91.40\n",
      "Конец доверительного интервала: 949.25\n",
      "Первый регион НЕ подходит по критериям. Вероятность убытков = 4.3%\n",
      "Средняя прибыль по выборкам: 457.2110964956182, минимальная прибыль: -376.2130711239188\n"
     ]
    }
   ],
   "source": [
    "values = []\n",
    "counter = 0\n",
    "\n",
    "for i in range(1000):\n",
    "    \n",
    "    target_subsample = target_valid1.reset_index(drop=True).sample(n=RESEARCHING_WELLS, replace=True, random_state=state)\n",
    "    pred_subsample = predicted_valid1[target_subsample.index]\n",
    "    profit = revenue(target_subsample, pred_subsample, EXTRACTING_WELLS)\n",
    "    profit -= BUDGET_PER_REGION\n",
    "    values.append(profit)\n",
    "    \n",
    "    if profit < 0:\n",
    "        counter += 1\n",
    "        \n",
    "result = counter / 1000\n",
    "values = pd.Series(values)\n",
    "\n",
    "lower = values.quantile(0.025)\n",
    "upper = values.quantile(0.975)\n",
    "print('Начало доверительного интервала: {:.2f}'.format(lower))\n",
    "print('Конец доверительного интервала: {:.2f}'.format(upper))\n",
    "\n",
    "if result < PROBABILITIES_OF_LOSSES:\n",
    "    print('Первый регион подходит по критериям. Вероятность убытков = {:.1%}'.format(result))\n",
    "else:\n",
    "    print('Первый регион НЕ подходит по критериям. Вероятность убытков = {:.1%}'.format(result))\n",
    "    \n",
    "print(f'Средняя прибыль по выборкам: {pd.Series(values).mean()}, минимальная прибыль: {pd.Series(values).min()}')"
   ]
  },
  {
   "cell_type": "markdown",
   "metadata": {},
   "source": [
    "### Проверяем второй регион:"
   ]
  },
  {
   "cell_type": "code",
   "execution_count": 21,
   "metadata": {},
   "outputs": [
    {
     "name": "stdout",
     "output_type": "stream",
     "text": [
      "Начало доверительного интервала: 52.47\n",
      "Конец доверительного интервала: 860.23\n",
      "Второй регион подходит по критериям. Вероятность убытков = 1.7%\n",
      "Средняя прибыль по выборкам: 444.88546052227264, минимальная прибыль: -250.05175411713572\n"
     ]
    }
   ],
   "source": [
    "values = []\n",
    "counter = 0\n",
    "\n",
    "for i in range(1000):\n",
    "    \n",
    "    target_subsample = target_valid2.reset_index(drop=True).sample(n=RESEARCHING_WELLS, replace=True, random_state=state)\n",
    "    pred_subsample = predicted_valid2[target_subsample.index]\n",
    "    profit = revenue(target_subsample, pred_subsample, EXTRACTING_WELLS)\n",
    "    profit -= BUDGET_PER_REGION\n",
    "    values.append(profit)\n",
    "    \n",
    "    if profit < 0:\n",
    "        counter += 1\n",
    "        \n",
    "result = counter / 1000\n",
    "values = pd.Series(values)\n",
    "\n",
    "lower = values.quantile(0.025)\n",
    "upper = values.quantile(0.975)\n",
    "print('Начало доверительного интервала: {:.2f}'.format(lower))\n",
    "print('Конец доверительного интервала: {:.2f}'.format(upper))\n",
    "\n",
    "if result < PROBABILITIES_OF_LOSSES:\n",
    "    print('Второй регион подходит по критериям. Вероятность убытков = {:.1%}'.format(result))\n",
    "else:\n",
    "    print('Второй регион НЕ подходит по критериям. Вероятность убытков = {:.1%}'.format(result))\n",
    "    \n",
    "print(f'Средняя прибыль по выборкам: {pd.Series(values).mean()}, минимальная прибыль: {pd.Series(values).min()}')"
   ]
  },
  {
   "cell_type": "markdown",
   "metadata": {},
   "source": [
    "### Проверяем третий регион:"
   ]
  },
  {
   "cell_type": "code",
   "execution_count": 22,
   "metadata": {},
   "outputs": [
    {
     "name": "stdout",
     "output_type": "stream",
     "text": [
      "Начало доверительного интервала: -88.82\n",
      "Конец доверительного интервала: 974.48\n",
      "Третий регион НЕ подходит по критериям. Вероятность убытков = 5.0%\n",
      "Средняя прибыль по выборкам: 426.54929986656725, минимальная прибыль: -340.93389234500137\n"
     ]
    }
   ],
   "source": [
    "values = []\n",
    "counter = 0\n",
    "\n",
    "for i in range(1000):\n",
    "    \n",
    "    target_subsample = target_valid3.reset_index(drop=True).sample(n=RESEARCHING_WELLS, replace=True, random_state=state)\n",
    "    pred_subsample = predicted_valid3[target_subsample.index]\n",
    "    profit = revenue(target_subsample, pred_subsample, EXTRACTING_WELLS)\n",
    "    profit -= BUDGET_PER_REGION\n",
    "    values.append(profit)\n",
    "    \n",
    "    if profit < 0:\n",
    "        counter += 1\n",
    "        \n",
    "result = counter / 1000\n",
    "values = pd.Series(values)\n",
    "\n",
    "lower = values.quantile(0.025)\n",
    "upper = values.quantile(0.975)\n",
    "print('Начало доверительного интервала: {:.2f}'.format(lower))\n",
    "print('Конец доверительного интервала: {:.2f}'.format(upper))\n",
    "\n",
    "if result < PROBABILITIES_OF_LOSSES:\n",
    "    print('Третий регион подходит по критериям. Вероятность убытков = {:.1%}'.format(result))\n",
    "else:\n",
    "    print('Третий регион НЕ подходит по критериям. Вероятность убытков = {:.1%}'.format(result))\n",
    "    \n",
    "print(f'Средняя прибыль по выборкам: {pd.Series(values).mean()}, минимальная прибыль: {pd.Series(values).min()}')"
   ]
  },
  {
   "cell_type": "markdown",
   "metadata": {},
   "source": [
    "### Выводы:"
   ]
  },
  {
   "cell_type": "markdown",
   "metadata": {},
   "source": [
    "По результатам нашего исследования, могу рекомендовать второй регион для добычи с максимальной прибылью.  \n",
    "\n",
    "- Только второй регион проходит по условию вероятности получения убытков (не больше 2,5%). Остальные имеют слишком высокий риск убытков, поэтому они нам не подходят.  \n",
    "- Отрицательная минимальная прибыль есть во всех трех регионах.  \n",
    "- Нижняя граница доверительного интервала положительная только во втором регионе. Это доказывает, что с заданной вероятностью только второй регион не понесет убытки.  \n",
    "- Средняя выручка по выборкам самая высокая во втором регионе. Это также доказывает, что необходимо остановиться на нем.  "
   ]
  }
 ],
 "metadata": {
  "ExecuteTimeLog": [
   {
    "duration": 1641,
    "start_time": "2023-06-30T07:02:45.562Z"
   },
   {
    "duration": 430,
    "start_time": "2023-06-30T07:02:47.209Z"
   },
   {
    "duration": 74,
    "start_time": "2023-06-30T07:02:47.641Z"
   },
   {
    "duration": 161,
    "start_time": "2023-06-30T07:02:47.718Z"
   },
   {
    "duration": 8,
    "start_time": "2023-06-30T07:02:47.881Z"
   },
   {
    "duration": 37,
    "start_time": "2023-06-30T07:02:47.890Z"
   },
   {
    "duration": 97,
    "start_time": "2023-06-30T07:02:47.928Z"
   },
   {
    "duration": 5,
    "start_time": "2023-06-30T07:02:48.104Z"
   },
   {
    "duration": 134,
    "start_time": "2023-06-30T07:02:48.110Z"
   },
   {
    "duration": 36,
    "start_time": "2023-06-30T07:02:48.246Z"
   },
   {
    "duration": 24,
    "start_time": "2023-06-30T07:02:48.284Z"
   },
   {
    "duration": 22,
    "start_time": "2023-06-30T07:02:48.311Z"
   },
   {
    "duration": 5,
    "start_time": "2023-06-30T07:02:48.336Z"
   },
   {
    "duration": 14,
    "start_time": "2023-06-30T07:02:48.344Z"
   },
   {
    "duration": 7,
    "start_time": "2023-06-30T07:02:48.360Z"
   },
   {
    "duration": 26,
    "start_time": "2023-06-30T07:02:48.368Z"
   },
   {
    "duration": 10,
    "start_time": "2023-06-30T07:02:48.395Z"
   },
   {
    "duration": 1343,
    "start_time": "2023-06-30T07:02:48.414Z"
   },
   {
    "duration": 1305,
    "start_time": "2023-06-30T07:02:49.759Z"
   },
   {
    "duration": 1248,
    "start_time": "2023-06-30T07:02:51.065Z"
   },
   {
    "duration": 108,
    "start_time": "2023-06-30T11:06:37.136Z"
   },
   {
    "duration": 42,
    "start_time": "2023-06-30T11:06:52.940Z"
   },
   {
    "duration": 1064,
    "start_time": "2023-06-30T11:08:21.129Z"
   },
   {
    "duration": 3,
    "start_time": "2023-06-30T11:08:33.172Z"
   },
   {
    "duration": 1847,
    "start_time": "2023-06-30T11:08:33.799Z"
   },
   {
    "duration": 78,
    "start_time": "2023-06-30T11:10:48.328Z"
   },
   {
    "duration": 34,
    "start_time": "2023-06-30T11:16:40.702Z"
   },
   {
    "duration": 83,
    "start_time": "2023-06-30T11:17:10.954Z"
   },
   {
    "duration": 4,
    "start_time": "2023-06-30T11:20:24.093Z"
   },
   {
    "duration": 18,
    "start_time": "2023-06-30T11:20:24.100Z"
   },
   {
    "duration": 370,
    "start_time": "2023-06-30T11:20:24.120Z"
   },
   {
    "duration": 77,
    "start_time": "2023-06-30T11:20:24.491Z"
   },
   {
    "duration": 42,
    "start_time": "2023-06-30T11:20:24.572Z"
   },
   {
    "duration": 154,
    "start_time": "2023-06-30T11:20:24.615Z"
   },
   {
    "duration": 7,
    "start_time": "2023-06-30T11:20:24.770Z"
   },
   {
    "duration": 49,
    "start_time": "2023-06-30T11:20:24.779Z"
   },
   {
    "duration": 142,
    "start_time": "2023-06-30T11:20:24.830Z"
   },
   {
    "duration": 94,
    "start_time": "2023-06-30T11:20:24.974Z"
   },
   {
    "duration": 98,
    "start_time": "2023-06-30T11:20:25.070Z"
   },
   {
    "duration": 19,
    "start_time": "2023-06-30T11:20:25.170Z"
   },
   {
    "duration": 25,
    "start_time": "2023-06-30T11:20:25.192Z"
   },
   {
    "duration": 40,
    "start_time": "2023-06-30T11:20:25.219Z"
   },
   {
    "duration": 27,
    "start_time": "2023-06-30T11:20:25.261Z"
   },
   {
    "duration": 20,
    "start_time": "2023-06-30T11:20:25.290Z"
   },
   {
    "duration": 8,
    "start_time": "2023-06-30T11:20:25.313Z"
   },
   {
    "duration": 47,
    "start_time": "2023-06-30T11:20:25.323Z"
   },
   {
    "duration": 4,
    "start_time": "2023-06-30T11:20:25.372Z"
   },
   {
    "duration": 1344,
    "start_time": "2023-06-30T11:20:25.378Z"
   },
   {
    "duration": 1315,
    "start_time": "2023-06-30T11:20:26.724Z"
   },
   {
    "duration": 1315,
    "start_time": "2023-06-30T11:20:28.041Z"
   },
   {
    "duration": 59,
    "start_time": "2023-06-30T11:20:49.036Z"
   },
   {
    "duration": 153,
    "start_time": "2023-06-30T11:21:26.834Z"
   },
   {
    "duration": 97,
    "start_time": "2023-06-30T11:23:43.502Z"
   },
   {
    "duration": 80,
    "start_time": "2023-06-30T11:23:52.835Z"
   },
   {
    "duration": 52,
    "start_time": "2023-06-30T11:24:15.880Z"
   },
   {
    "duration": 171,
    "start_time": "2023-06-30T11:24:39.957Z"
   },
   {
    "duration": 134,
    "start_time": "2023-06-30T11:24:52.903Z"
   },
   {
    "duration": 39,
    "start_time": "2023-06-30T11:25:19.746Z"
   },
   {
    "duration": 140,
    "start_time": "2023-06-30T11:25:36.484Z"
   }
  ],
  "kernelspec": {
   "display_name": "Python 3 (ipykernel)",
   "language": "python",
   "name": "python3"
  },
  "language_info": {
   "codemirror_mode": {
    "name": "ipython",
    "version": 3
   },
   "file_extension": ".py",
   "mimetype": "text/x-python",
   "name": "python",
   "nbconvert_exporter": "python",
   "pygments_lexer": "ipython3",
   "version": "3.9.13"
  },
  "toc": {
   "base_numbering": 1,
   "nav_menu": {},
   "number_sections": true,
   "sideBar": true,
   "skip_h1_title": true,
   "title_cell": "Table of Contents",
   "title_sidebar": "Contents",
   "toc_cell": false,
   "toc_position": {
    "height": "calc(100% - 180px)",
    "left": "10px",
    "top": "150px",
    "width": "245.667px"
   },
   "toc_section_display": true,
   "toc_window_display": true
  },
  "varInspector": {
   "cols": {
    "lenName": 16,
    "lenType": 16,
    "lenVar": 40
   },
   "kernels_config": {
    "python": {
     "delete_cmd_postfix": "",
     "delete_cmd_prefix": "del ",
     "library": "var_list.py",
     "varRefreshCmd": "print(var_dic_list())"
    },
    "r": {
     "delete_cmd_postfix": ") ",
     "delete_cmd_prefix": "rm(",
     "library": "var_list.r",
     "varRefreshCmd": "cat(var_dic_list()) "
    }
   },
   "types_to_exclude": [
    "module",
    "function",
    "builtin_function_or_method",
    "instance",
    "_Feature"
   ],
   "window_display": false
  }
 },
 "nbformat": 4,
 "nbformat_minor": 2
}
